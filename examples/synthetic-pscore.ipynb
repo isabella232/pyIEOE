{
 "cells": [
  {
   "cell_type": "markdown",
   "metadata": {},
   "source": [
    "# Quickstart: Use Cases and Examples with *Interpretable OPE Evaluator*"
   ]
  },
  {
   "cell_type": "markdown",
   "metadata": {},
   "source": [
    "This notebook demonstrates an example of conducting Interpretable Evaluation for Off-Policy Evaluation (IEOE). We use synthetic logged bandit feedback data generated using [`obp`](https://github.com/st-tech/zr-obp) and evaluate the performance of Direct Method (DM), Doubly Robust (DR), Doubly Robust with Shrinkage (DRos), and Inverse Probability Weighting (IPW).\n",
    "\n",
    "Our example contains the following three major steps:\n",
    "\n",
    "1. Data Preparation\n",
    "2. Setting Hyperparameter Spaces for Off-Policy Evaluation\n",
    "3. Interpretable Evaluation for Off-Policy Evaluation"
   ]
  },
  {
   "cell_type": "code",
   "execution_count": 1,
   "metadata": {},
   "outputs": [],
   "source": [
    "import numpy as np\n",
    "from sklearn.linear_model import LogisticRegression\n",
    "from sklearn.ensemble import RandomForestClassifier as RandomForest\n",
    "\n",
    "# import necesarry functions from obp\n",
    "import obp\n",
    "from obp.dataset import (\n",
    "    SyntheticBanditDataset,\n",
    "    logistic_reward_function,\n",
    "    linear_behavior_policy\n",
    ")\n",
    "from obp.policy import IPWLearner\n",
    "from obp.ope import (\n",
    "    DirectMethod,\n",
    "    DoublyRobust,\n",
    "    DoublyRobustWithShrinkage,\n",
    "    InverseProbabilityWeighting,\n",
    ")\n",
    "\n",
    "# import interpretable ope evaluator from pyieoe\n",
    "from pyieoe.evaluator import InterpretableOPEEvaluator"
   ]
  },
  {
   "cell_type": "code",
   "execution_count": 2,
   "metadata": {},
   "outputs": [
    {
     "data": {
      "text/plain": [
       "'0.4.0'"
      ]
     },
     "execution_count": 2,
     "metadata": {},
     "output_type": "execute_result"
    }
   ],
   "source": [
    "obp.__version__"
   ]
  },
  {
   "cell_type": "code",
   "execution_count": null,
   "metadata": {},
   "outputs": [],
   "source": []
  },
  {
   "cell_type": "markdown",
   "metadata": {},
   "source": [
    "## 1. Data Preparation\n",
    "\n",
    "In order to conduct IEOE using `pyieoe`, we need to prepare logged bandit feedback data, action distributions of evaluation policies, and ground truth policy values of evaluation policies. Because `pyieoe` is built with the intention of being used with `obp`, these inputs must follow the conventions in `obp`. Specifically, logged bandit feedback data must be of type `BanditFeedback`, action distributions must be of type `np.ndarray`, and ground truth policy values must be of type `float` (or `int`). \n",
    "\n",
    "In this example, we generate synthetic logged bandit feedback data and perform off-policy learning to obtain two sets of evaluation policies along with their action distributions and ground truth policy values using `obp`. For a detailed explanation of this process, please refer to the [official obp example](https://github.com/st-tech/zr-obp/blob/master/examples/quickstart/quickstart_synthetic.ipynb)."
   ]
  },
  {
   "cell_type": "code",
   "execution_count": 3,
   "metadata": {},
   "outputs": [],
   "source": [
    "# generate a synthetic bandit dataset with 10 actions\n",
    "# we use `logistic function` as the reward function and `linear_behavior_policy` as the behavior policy.\n",
    "# one can define their own reward function and behavior policy such as nonlinear ones. \n",
    "dataset = SyntheticBanditDataset(\n",
    "    n_actions=10,\n",
    "    dim_context=5,\n",
    "    reward_type=\"binary\", # \"binary\" or \"continuous\"\n",
    "    reward_function=logistic_reward_function,\n",
    "    behavior_policy_function=linear_behavior_policy,\n",
    "    random_state=12345\n",
    ")\n",
    "# obtain training and test sets of synthetic logged bandit feedback\n",
    "n_rounds_train, n_rounds_test = 10000, 10000\n",
    "bandit_feedback_train = dataset.obtain_batch_bandit_feedback(n_rounds=n_rounds_train)\n",
    "bandit_feedback_test = dataset.obtain_batch_bandit_feedback(n_rounds=n_rounds_test)\n",
    "\n",
    "# define IPWLearner with Logistic Regression as its base ML model\n",
    "evaluation_policy_a = IPWLearner(\n",
    "    n_actions=dataset.n_actions,\n",
    "    len_list=dataset.len_list,\n",
    "    base_classifier=LogisticRegression(C=100, random_state=12345)\n",
    ")\n",
    "# train IPWLearner on the training set of the synthetic logged bandit feedback\n",
    "evaluation_policy_a.fit(\n",
    "    context=bandit_feedback_train[\"context\"],\n",
    "    action=bandit_feedback_train[\"action\"],\n",
    "    reward=bandit_feedback_train[\"reward\"],\n",
    "    pscore=bandit_feedback_train[\"pscore\"]\n",
    ")\n",
    "# obtains action choice probabilities for the test set of the synthetic logged bandit feedback\n",
    "action_dist_a = evaluation_policy_a.predict_proba(\n",
    "    context=bandit_feedback_test[\"context\"],\n",
    "    tau=0.1 # temperature hyperparameter\n",
    ")\n",
    "\n",
    "# define IPWLearner with Random Forest as its base ML model\n",
    "evaluation_policy_b = IPWLearner(\n",
    "    n_actions=dataset.n_actions,\n",
    "    len_list=dataset.len_list,\n",
    "    base_classifier=RandomForest(n_estimators=30, min_samples_leaf=10, random_state=12345)\n",
    ")\n",
    "# train IPWLearner on the training set of the synthetic logged bandit feedback\n",
    "evaluation_policy_b.fit(\n",
    "    context=bandit_feedback_train[\"context\"],\n",
    "    action=bandit_feedback_train[\"action\"],\n",
    "    reward=bandit_feedback_train[\"reward\"],\n",
    "    pscore=bandit_feedback_train[\"pscore\"]\n",
    ")\n",
    "# obtains action choice probabilities for the test set of the synthetic logged bandit feedback\n",
    "action_dist_b = evaluation_policy_b.predict_proba(\n",
    "    context=bandit_feedback_test[\"context\"],\n",
    "    tau=0.1 # temperature hyperparameter\n",
    ")\n",
    "\n",
    "# obtain ground truth policy value for each action choice probabilities\n",
    "expected_rewards = bandit_feedback_test[\"expected_reward\"]\n",
    "ground_truth_a = np.average(expected_rewards, weights=action_dist_a[:, :, 0], axis=1).mean()\n",
    "ground_truth_b = np.average(expected_rewards, weights=action_dist_b[:, :, 0], axis=1).mean()"
   ]
  },
  {
   "cell_type": "markdown",
   "metadata": {},
   "source": [
    "## 2. Setting Hyperparameter Spaces for Off-Policy Evaluation\n",
    "\n",
    "An integral aspect of IEOE is the different sources of variance. The main sources of variance are evaluation policies, random states, hyperparameters of OPE estimators, and hyperparameters of regression models. \n",
    "\n",
    "In this step, we define the spaces from which the hyperparameters of OPE estimators / regression models are chosen. (The evaluation policy space is defined in the previous step, and the random state space will be defined in the next step.)"
   ]
  },
  {
   "cell_type": "code",
   "execution_count": 4,
   "metadata": {},
   "outputs": [],
   "source": [
    "# set hyperparameter space for ope estimators\n",
    "\n",
    "# set hyperparameter space for the doubly robust with shrinkage estimator\n",
    "# with the following code, lambda_ will be chosen from a logarithm uniform distribution over the interval [0.001, 1000]\n",
    "lambda_ = {\n",
    "    \"lower\": 1e-3,\n",
    "    \"upper\": 1e3,\n",
    "    \"log\": True,\n",
    "    \"type\": float\n",
    "}\n",
    "dros_param = {\"lambda_\": lambda_}"
   ]
  },
  {
   "cell_type": "code",
   "execution_count": 5,
   "metadata": {},
   "outputs": [],
   "source": [
    "# set hyperparameter space for regression models\n",
    "\n",
    "# set hyperparameter space for logistic regression\n",
    "# with the following code, C will be chosen from a logarithm uniform distribution over the interval [0.001, 100]\n",
    "C = {\n",
    "    \"lower\": 1e-3,\n",
    "    \"upper\": 1e2,\n",
    "    \"log\": True,\n",
    "    \"type\": float\n",
    "}\n",
    "# create a dictionary mapping hyperparamter names to hyperparamter spaces\n",
    "logistic_regression_param = {\"C\": C}\n",
    "\n",
    "# set hyperparameter space for the random forest classifier\n",
    "# with the following code, n_estimators will be chosen from a logarithm uniform distribution over the interval [50, 100]\n",
    "# the chosen value will be of type int\n",
    "n_estimators = {\n",
    "    \"lower\": 5e1,\n",
    "    \"upper\": 1e2,\n",
    "    \"log\": True,\n",
    "    \"type\": int\n",
    "}\n",
    "# with the following code, max_depth will be chosen from a uniform distribution over the interval [2, 10]\n",
    "# the chosen value will be of type int\n",
    "max_depth = {\n",
    "    \"lower\": 2,\n",
    "    \"upper\": 10,\n",
    "    \"log\": False,\n",
    "    \"type\": int\n",
    "}\n",
    "# with the following code, min_samples_split will be chosen from a uniform distribution over the interval [2, 10]\n",
    "# the chosen value will be of type int\n",
    "min_samples_split = {\n",
    "    \"lower\": 2,\n",
    "    \"upper\": 10,\n",
    "    \"log\": False,\n",
    "    \"type\": int\n",
    "}\n",
    "# create a dictionary mapping hyperparamter names to hyperparamter spaces\n",
    "random_forest_param = {\n",
    "    \"n_estimators\": n_estimators, \n",
    "    \"max_depth\": max_depth, \n",
    "    \"min_samples_split\": min_samples_split\n",
    "}"
   ]
  },
  {
   "cell_type": "markdown",
   "metadata": {},
   "source": [
    "## 3. Interpretable Evaluation for Off-Policy Evaluation\n",
    "\n",
    "With the above steps completed, we can finally conduct IEOE by utilizing the `InterpretableOPEEvaluator` class.\n",
    "\n",
    "Here is a brief description for each parameter that can be passed into `InterpretableOPEEvaluator`:\n",
    "\n",
    "- `random_states`: a list of integers representing the random_state used when performing OPE; corresponds to the number of iterations\n",
    "- `bandit_feedback`: a list of logged bandit feedback data\n",
    "- `evaluation_policies`: a list of tuples representing (ground truth policy value, action distribution)\n",
    "- `ope_estimators`: a list of OPE ope_estimators\n",
    "- `ope_estimator_hyperparams`: a dictionary mapping OPE estimator names to OPE estimator hyperparameter spaces defined in step 2\n",
    "- `regression_models`: a list of regression_models\n",
    "- `regression_model_hyperparams`: a dictionary mapping regression models to regression model hyperparameter spaces defined in step 2"
   ]
  },
  {
   "cell_type": "code",
   "execution_count": 6,
   "metadata": {},
   "outputs": [],
   "source": [
    "# initializing class\n",
    "evaluator = InterpretableOPEEvaluator(\n",
    "    random_states=np.arange(1000),\n",
    "    bandit_feedbacks=[bandit_feedback_test],\n",
    "    evaluation_policies=[\n",
    "        (ground_truth_a, action_dist_a), \n",
    "        (ground_truth_b, action_dist_b)\n",
    "    ],\n",
    "    ope_estimators=[\n",
    "        DirectMethod(),\n",
    "        DoublyRobust(),\n",
    "        DoublyRobustWithShrinkage(),\n",
    "        InverseProbabilityWeighting(), \n",
    "    ],\n",
    "    ope_estimator_hyperparams={\n",
    "        DoublyRobustWithShrinkage.estimator_name: dros_param,\n",
    "    },\n",
    "    regression_models=[\n",
    "        LogisticRegression,\n",
    "        RandomForest\n",
    "    ],\n",
    "    regression_model_hyperparams={\n",
    "        LogisticRegression: logistic_regression_param,\n",
    "        RandomForest: random_forest_param\n",
    "    },\n",
    "    pscore_estimators=[\n",
    "        LogisticRegression,\n",
    "        RandomForest\n",
    "    ],\n",
    "    pscore_estimator_hyperparams={\n",
    "        LogisticRegression: logistic_regression_param,\n",
    "        RandomForest: random_forest_param\n",
    "    }\n",
    ")"
   ]
  },
  {
   "cell_type": "markdown",
   "metadata": {},
   "source": [
    "We can set the hyperparameters of OPE estimators / regression models after initializing `InterpretableOPEEvaluator` as well. Below is an example:"
   ]
  },
  {
   "cell_type": "code",
   "execution_count": 7,
   "metadata": {},
   "outputs": [],
   "source": [
    "# re-set hyperparameter space for the doubly robust with shrinkage estimator\n",
    "# with the following code, lambda_ will now be chosen from a logarithm uniform distribution over the interval [0.001, 100]\n",
    "evaluator.set_ope_estimator_hyperparam_space(\n",
    "    DoublyRobustWithShrinkage.estimator_name,\n",
    "    param_name=\"lambda_\",\n",
    "    lower=1e-3,\n",
    "    upper=1e2,\n",
    "    log=True,\n",
    "    type_=float,\n",
    ")\n",
    "\n",
    "# re-set hyperparameter space for logistic regression\n",
    "# with the following code, C will now be chosen from a logarithm uniform distribution over the interval [0.001, 100]\n",
    "evaluator.set_regression_model_hyperparam_space(\n",
    "    LogisticRegression,\n",
    "    param_name=\"C\",\n",
    "    lower=1e-2,\n",
    "    upper=1e2,\n",
    "    log=True,\n",
    "    type_=float,\n",
    ")"
   ]
  },
  {
   "cell_type": "markdown",
   "metadata": {},
   "source": [
    "Once we have initialized `InterpretableOPEEvaluator`, we can call implemented methods to perform IEOE."
   ]
  },
  {
   "cell_type": "code",
   "execution_count": 8,
   "metadata": {},
   "outputs": [
    {
     "name": "stderr",
     "output_type": "stream",
     "text": [
      "100%|██████████| 1000/1000 [22:37<00:00,  1.36s/it]\n"
     ]
    }
   ],
   "source": [
    "# estimate policy values\n",
    "# we obtain a dictionary mapping ope estimator names to np.ndarray storing the estimated policy value for each iteration\n",
    "policy_value = evaluator.estimate_policy_value()"
   ]
  },
  {
   "cell_type": "code",
   "execution_count": 9,
   "metadata": {},
   "outputs": [
    {
     "name": "stdout",
     "output_type": "stream",
     "text": [
      "dm: [0.61545221 0.62667349 0.62580662]\n",
      "dr: [0.63453571 0.64766526 0.64769435]\n",
      "dr-os: [0.61469144 0.62538813 0.62433734]\n",
      "ipw: [0.63682535 0.6131044  0.64696424]\n"
     ]
    }
   ],
   "source": [
    "print(\"dm:\", policy_value[\"dm\"][:3])\n",
    "print(\"dr:\", policy_value[\"dr\"][:3])\n",
    "print(\"dr-os:\", policy_value[\"dr-os\"][:3])\n",
    "print(\"ipw:\", policy_value[\"ipw\"][:3])"
   ]
  },
  {
   "cell_type": "code",
   "execution_count": 10,
   "metadata": {},
   "outputs": [],
   "source": [
    "# compute squared errors\n",
    "# we obtain a dictionary mapping ope estimator names to np.ndarray storing the calculated squared error for each iteration\n",
    "squared_error = evaluator.calculate_squared_error()"
   ]
  },
  {
   "cell_type": "code",
   "execution_count": 11,
   "metadata": {},
   "outputs": [
    {
     "name": "stdout",
     "output_type": "stream",
     "text": [
      "dm: [3.52705747e-04 5.06469838e-05 7.09983979e-05]\n",
      "dr: [9.18302903e-08 1.92518552e-04 1.81216579e-04]\n",
      "dr-os: [3.81860092e-04 7.05940719e-05 9.79177714e-05]\n",
      "ipw: [6.72196710e-06 4.27900436e-04 1.62092626e-04]\n"
     ]
    }
   ],
   "source": [
    "print(\"dm:\", squared_error[\"dm\"][:3])\n",
    "print(\"dr:\", squared_error[\"dr\"][:3])\n",
    "print(\"dr-os:\", squared_error[\"dr-os\"][:3])\n",
    "print(\"ipw:\", squared_error[\"ipw\"][:3])"
   ]
  },
  {
   "cell_type": "code",
   "execution_count": 17,
   "metadata": {},
   "outputs": [
    {
     "data": {
      "text/plain": [
       "<Figure size 432x288 with 0 Axes>"
      ]
     },
     "metadata": {},
     "output_type": "display_data"
    },
    {
     "data": {
      "image/png": "[encoded data removed]",
      "text/plain": [
       "<Figure size 576x432 with 1 Axes>"
      ]
     },
     "metadata": {},
     "output_type": "display_data"
    }
   ],
   "source": [
    "# visualize cdf of squared errors for all ope estimators\n",
    "evaluator.visualize_cdf_aggregate(xmax=0.002)"
   ]
  },
  {
   "cell_type": "code",
   "execution_count": 13,
   "metadata": {},
   "outputs": [
    {
     "data": {
      "text/plain": [
       "{'dm': 0.00013605737809169543,\n",
       " 'dr': 0.00030526831334442775,\n",
       " 'dr-os': 0.00019635185243318376,\n",
       " 'ipw': 0.00020609207318572032}"
      ]
     },
     "execution_count": 13,
     "metadata": {},
     "output_type": "execute_result"
    }
   ],
   "source": [
    "# compute the au-cdf score (area under cdf of squared error over interval [0, thershold]), higher score is better\n",
    "# we obtain a dictionary mapping ope estimator names to cvar scores \n",
    "au_cdf = evaluator.calculate_au_cdf_score(threshold=0.0004)\n",
    "au_cdf"
   ]
  },
  {
   "cell_type": "code",
   "execution_count": 14,
   "metadata": {},
   "outputs": [
    {
     "data": {
      "text/plain": [
       "{'dm': 0.44569767690950873,\n",
       " 'dr': 1.0,\n",
       " 'dr-os': 0.6432107226656182,\n",
       " 'ipw': 0.6751178035081257}"
      ]
     },
     "execution_count": 14,
     "metadata": {},
     "output_type": "execute_result"
    }
   ],
   "source": [
    "# by activating the `scale` option, \n",
    "# we obtain the au_cdf scores where the highest score is scaled to 1\n",
    "au_cdf_scaled = evaluator.calculate_au_cdf_score(threshold=0.0004, scale=True)\n",
    "au_cdf_scaled"
   ]
  },
  {
   "cell_type": "code",
   "execution_count": 15,
   "metadata": {},
   "outputs": [
    {
     "data": {
      "text/plain": [
       "{'dm': 0.000886828823044524,\n",
       " 'dr': 0.0003393236607679527,\n",
       " 'dr-os': 0.0008401878139005747,\n",
       " 'ipw': 0.004682647767546376}"
      ]
     },
     "execution_count": 15,
     "metadata": {},
     "output_type": "execute_result"
    }
   ],
   "source": [
    "# compute the cvar score (expected value of squared error above probability alpha), lower score is better\n",
    "# we obtain a dictionary mapping ope estimator names to cvar scores \n",
    "cvar = evaluator.calculate_cvar_score(alpha=90)\n",
    "cvar"
   ]
  },
  {
   "cell_type": "code",
   "execution_count": 16,
   "metadata": {},
   "outputs": [
    {
     "data": {
      "text/plain": [
       "{'dm': 2.6135189660439977,\n",
       " 'dr': 1.0,\n",
       " 'dr-os': 2.4760661016065693,\n",
       " 'ipw': 13.799944739923738}"
      ]
     },
     "execution_count": 16,
     "metadata": {},
     "output_type": "execute_result"
    }
   ],
   "source": [
    "# by activating the `scale` option, \n",
    "# we obtain the cvar scores where the lowest score is scaled to 1\n",
    "cvar_scaled = evaluator.calculate_cvar_score(alpha=90, scale=True)\n",
    "cvar_scaled"
   ]
  },
  {
   "cell_type": "code",
   "execution_count": null,
   "metadata": {},
   "outputs": [],
   "source": []
  }
 ],
 "metadata": {
  "kernelspec": {
   "display_name": "Python 3",
   "language": "python",
   "name": "python3"
  },
  "language_info": {
   "codemirror_mode": {
    "name": "ipython",
    "version": 3
   },
   "file_extension": ".py",
   "mimetype": "text/x-python",
   "name": "python",
   "nbconvert_exporter": "python",
   "pygments_lexer": "ipython3",
   "version": "3.7.10"
  }
 },
 "nbformat": 4,
 "nbformat_minor": 2
}
